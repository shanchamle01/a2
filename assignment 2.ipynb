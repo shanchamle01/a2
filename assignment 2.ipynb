{
 "cells": [
  {
   "cell_type": "code",
   "execution_count": null,
   "id": "f1ad6e4e-799c-48b6-99c7-ce45cff54d27",
   "metadata": {},
   "outputs": [],
   "source": [
    "q.1#'#'for single line \n",
    "#(\"\"\")triple quptes for multiline\n",
    "#__doc__ for document strings"
   ]
  },
  {
   "cell_type": "code",
   "execution_count": null,
   "id": "24979caf-ebc8-49e1-b678-8d8a383ca6b0",
   "metadata": {},
   "outputs": [],
   "source": [
    "#variables in pyhton \n",
    "1.Numbers\n",
    "2.String\n",
    "3.List\n",
    "4.Tuple\n",
    "\n"
   ]
  },
  {
   "cell_type": "code",
   "execution_count": 10,
   "id": "39678450-0b34-4eda-8e5d-3f9e3854be3d",
   "metadata": {
    "jupyter": {
     "source_hidden": true
    },
    "tags": []
   },
   "outputs": [
    {
     "name": "stdout",
     "output_type": "stream",
     "text": [
      "The values of a 5\n"
     ]
    }
   ],
   "source": [
    "#direct initialisation method\n",
    "a=5\n",
    "print(\"The values of a \"+ str(a))"
   ]
  },
  {
   "cell_type": "code",
   "execution_count": 4,
   "id": "93221b5f-8f41-408f-afa8-ae70b4e16a1d",
   "metadata": {},
   "outputs": [
    {
     "name": "stdout",
     "output_type": "stream",
     "text": [
      "runforfun\n"
     ]
    }
   ],
   "source": [
    "#multiple values to different variables\n",
    "x,y,z=\"run\",\"for\",\"fun\"\n",
    "print(x+y+z)"
   ]
  },
  {
   "cell_type": "code",
   "execution_count": null,
   "id": "ff782ffb-b2cd-495b-b438-cc935c6db8c6",
   "metadata": {},
   "outputs": [],
   "source": [
    "#q.3\n",
    "1.Implicit type\n",
    "2.explicit type conversion\n",
    "using 'string','tuple','list'"
   ]
  },
  {
   "cell_type": "code",
   "execution_count": null,
   "id": "00f9fa0e-b48c-4eaf-ab38-3d7ea620cf0e",
   "metadata": {},
   "outputs": [],
   "source": [
    "#q.4\n",
    "by command line python script\n",
    "we have to write 'python'keyword before the file name or \n",
    "by writting own file name in place of 'hello.py'"
   ]
  },
  {
   "cell_type": "code",
   "execution_count": 9,
   "id": "f1d3cc03-67ed-4257-b933-ebd2b9f4f01b",
   "metadata": {},
   "outputs": [
    {
     "name": "stdout",
     "output_type": "stream",
     "text": [
      "[1, 2, 3, 4, 5]\n"
     ]
    }
   ],
   "source": [
    "#q.5\n",
    "l=[1,2,3,4,5]\n",
    "print(l[::1])"
   ]
  },
  {
   "cell_type": "code",
   "execution_count": 16,
   "id": "3a14b331-6b9f-4319-b704-20364f33b879",
   "metadata": {},
   "outputs": [
    {
     "name": "stdout",
     "output_type": "stream",
     "text": [
      "[2, 3]\n"
     ]
    }
   ],
   "source": [
    "print(l[1:3])"
   ]
  },
  {
   "cell_type": "code",
   "execution_count": 17,
   "id": "270ce435-a6cf-4241-b44e-0b51d4ef63b3",
   "metadata": {},
   "outputs": [
    {
     "name": "stdout",
     "output_type": "stream",
     "text": [
      "the real part of thecomplex number is\n",
      "4.0\n",
      "The imaginary part of the complex number is\n",
      "3.0\n"
     ]
    }
   ],
   "source": [
    "#q.6\n",
    "z=4+3j\n",
    "print(\"the real part of thecomplex number is\")\n",
    "print(z.real)\n",
    "print(\"The imaginary part of the complex number is\")\n",
    "print(z.imag)"
   ]
  },
  {
   "cell_type": "code",
   "execution_count": 19,
   "id": "3561adab-c5ff-4be6-9610-c829976804af",
   "metadata": {},
   "outputs": [
    {
     "name": "stdout",
     "output_type": "stream",
     "text": [
      "x: 25\n"
     ]
    }
   ],
   "source": [
    "x=25\n",
    "print(\"x:\",str(age))"
   ]
  },
  {
   "cell_type": "code",
   "execution_count": null,
   "id": "16b36b82-0ab6-472c-ac4e-765f8fb1ce9d",
   "metadata": {},
   "outputs": [],
   "source": [
    "#q.8\n",
    "price=float(input(\"enter price\"))\n",
    "if price==9.99:\n",
    "    print(\"i will purchase\")"
   ]
  },
  {
   "cell_type": "code",
   "execution_count": 1,
   "id": "9d499d73-dcdb-4aba-b136-5c18f011215d",
   "metadata": {},
   "outputs": [
    {
     "data": {
      "text/plain": [
       "str"
      ]
     },
     "execution_count": 1,
     "metadata": {},
     "output_type": "execute_result"
    }
   ],
   "source": [
    "type(\"price\")"
   ]
  },
  {
   "cell_type": "code",
   "execution_count": null,
   "id": "5eb2f676-502b-4802-99d1-2708680422e3",
   "metadata": {},
   "outputs": [],
   "source": [
    "#q.9\n",
    "Name=str(input(\"enter your name\"))\n",
    "print(\"johnson starc\")\n"
   ]
  },
  {
   "cell_type": "code",
   "execution_count": null,
   "id": "6a07cc24-23e1-4130-aca6-036391f35390",
   "metadata": {},
   "outputs": [],
   "source": [
    "myString=\"hello world\"\n",
    "print(myString[::1])"
   ]
  },
  {
   "cell_type": "code",
   "execution_count": 5,
   "id": "618e4af4-9fd9-42c5-ac90-b7f9fea7b920",
   "metadata": {},
   "outputs": [
    {
     "data": {
      "text/plain": [
       "bool"
      ]
     },
     "execution_count": 5,
     "metadata": {},
     "output_type": "execute_result"
    }
   ],
   "source": [
    "#q.11\n",
    "is_student=True\n",
    "type(is_student)"
   ]
  },
  {
   "cell_type": "code",
   "execution_count": null,
   "id": "e6f31340-c7b9-490b-b7d5-7fe2a5342c0e",
   "metadata": {},
   "outputs": [],
   "source": []
  }
 ],
 "metadata": {
  "kernelspec": {
   "display_name": "Python 3 (ipykernel)",
   "language": "python",
   "name": "python3"
  },
  "language_info": {
   "codemirror_mode": {
    "name": "ipython",
    "version": 3
   },
   "file_extension": ".py",
   "mimetype": "text/x-python",
   "name": "python",
   "nbconvert_exporter": "python",
   "pygments_lexer": "ipython3",
   "version": "3.10.8"
  }
 },
 "nbformat": 4,
 "nbformat_minor": 5
}
